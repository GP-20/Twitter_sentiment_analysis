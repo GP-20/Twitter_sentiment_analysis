{
 "cells": [
  {
   "cell_type": "code",
   "execution_count": null,
   "metadata": {},
   "outputs": [],
   "source": [
    "import pandas as pd\n",
    "import numpy as np\n",
    "import re\n",
    "import seaborn as sns\n",
    "import matplotlib.pyplot as plt\n",
    "from wordcloud import WordCloud\n",
    "sns.set(style=\"whitegrid\",\n",
    "        rc={\n",
    "            \"text.color\": \"black\",\n",
    "            \"axes.labelcolor\": \"black\",\n",
    "            \"axes.edgecolor\": \"black\",\n",
    "            \"xtick.color\": \"black\",\n",
    "            \"ytick.color\": \"black\",\n",
    "            \"axes.facecolor\": \"#FFFFFF\",\n",
    "            \"figure.facecolor\": \"#F5F8FA\"}\n",
    "        )"
   ]
  },
  {
   "cell_type": "code",
   "execution_count": null,
   "metadata": {},
   "outputs": [],
   "source": [
    "df=pd.read_pickle(\"final_df.pkl\").reset_index(drop=True)"
   ]
  },
  {
   "cell_type": "code",
   "execution_count": null,
   "metadata": {},
   "outputs": [],
   "source": [
    "df[[\"tweet\",\"usuario\",\"dispositivo\"]].describe()"
   ]
  },
  {
   "cell_type": "code",
   "execution_count": null,
   "metadata": {},
   "outputs": [],
   "source": [
    "round(df[\"hashtags\"].apply(len).mean(),0)"
   ]
  },
  {
   "cell_type": "code",
   "execution_count": null,
   "metadata": {},
   "outputs": [],
   "source": [
    "round(df[\"users\"].apply(len).mean(),0)"
   ]
  },
  {
   "cell_type": "code",
   "execution_count": null,
   "metadata": {},
   "outputs": [],
   "source": [
    "df[\"dispositivo\"].value_counts()[:10]"
   ]
  },
  {
   "cell_type": "code",
   "execution_count": null,
   "metadata": {},
   "outputs": [],
   "source": [
    "hashtags=[]\n",
    "for i in df[\"hashtags\"]:\n",
    "    for j in i:\n",
    "        hashtags.append(j)\n"
   ]
  },
  {
   "cell_type": "code",
   "execution_count": null,
   "metadata": {},
   "outputs": [],
   "source": [
    "join_hash=(\",\").join(hashtags).lower()"
   ]
  },
  {
   "cell_type": "code",
   "execution_count": null,
   "metadata": {},
   "outputs": [],
   "source": [
    "reg_amlo=re.compile(r\"#amlo,\")\n",
    "clean_hash=reg_amlo.sub(\"\",join_hash).split(\",\")"
   ]
  },
  {
   "cell_type": "code",
   "execution_count": null,
   "metadata": {},
   "outputs": [],
   "source": [
    "clean_hash.pop(67417)"
   ]
  },
  {
   "cell_type": "code",
   "execution_count": null,
   "metadata": {},
   "outputs": [],
   "source": [
    "hashtag_series=pd.Series(clean_hash)"
   ]
  },
  {
   "cell_type": "code",
   "execution_count": null,
   "metadata": {},
   "outputs": [],
   "source": [
    "hashtag_series.nunique()"
   ]
  },
  {
   "cell_type": "code",
   "execution_count": null,
   "metadata": {},
   "outputs": [],
   "source": [
    "top_hash=hashtag_series.value_counts().head(30)"
   ]
  },
  {
   "cell_type": "code",
   "execution_count": null,
   "metadata": {},
   "outputs": [],
   "source": [
    "plt.figure(figsize=(20,10))\n",
    "sns.barplot(x=top_hash.values, y=top_hash.index, palette=\"GnBu_r\",lw=1,edgecolor=\"black\")\n",
    "plt.yticks(size=20,weight=\"light\")\n",
    "plt.xticks(size=20,weight=\"light\")\n",
    "plt.xlabel(\"Número de tweets\",size=22,labelpad=20,weight=\"bold\")\n",
    "plt.title(\"Hashtags más usados\",weight=\"bold\",pad=15,size=25)\n",
    "plt.tight_layout()"
   ]
  },
  {
   "cell_type": "code",
   "execution_count": null,
   "metadata": {},
   "outputs": [],
   "source": [
    "mentions=[]\n",
    "for i in df[\"users\"]:\n",
    "    for j in i:\n",
    "        mentions.append(j)"
   ]
  },
  {
   "cell_type": "code",
   "execution_count": null,
   "metadata": {},
   "outputs": [],
   "source": [
    "mentions_series=pd.Series(mentions)"
   ]
  },
  {
   "cell_type": "code",
   "execution_count": null,
   "metadata": {},
   "outputs": [],
   "source": [
    "mentions_series.nunique()"
   ]
  },
  {
   "cell_type": "code",
   "execution_count": null,
   "metadata": {},
   "outputs": [],
   "source": [
    "top_mentions=mentions_series.value_counts().head(30)"
   ]
  },
  {
   "cell_type": "code",
   "execution_count": null,
   "metadata": {},
   "outputs": [],
   "source": [
    "plt.figure(figsize=(20,10))\n",
    "sns.barplot(x=top_mentions.values, y=top_mentions.index, palette=\"GnBu_r\",lw=1,edgecolor=\"black\")\n",
    "plt.yticks(size=20,weight=\"light\")\n",
    "plt.xticks(ticks=np.arange(0,6000,500),size=20,weight=\"light\")\n",
    "plt.xlabel(\"Número de tweets\",size=22,labelpad=20,weight=\"bold\")\n",
    "plt.title(\"Usuarios más mencionados\",weight=\"bold\",pad=15,size=25)\n",
    "plt.tight_layout()"
   ]
  },
  {
   "cell_type": "code",
   "execution_count": null,
   "metadata": {},
   "outputs": [],
   "source": [
    "from nltk.corpus import stopwords\n",
    "stop=stopwords.words('spanish')"
   ]
  },
  {
   "cell_type": "code",
   "execution_count": null,
   "metadata": {},
   "outputs": [],
   "source": [
    "def quitar_acentos(texto):\n",
    "    juntar=(\" \").join(texto)\n",
    "    juntar=juntar.replace(\"á\",\"a\")\n",
    "    juntar=juntar.replace(\"é\",\"e\")\n",
    "    juntar=juntar.replace(\"í\",\"i\")\n",
    "    juntar=juntar.replace(\"ó\",\"o\")\n",
    "    juntar=juntar.replace(\"ú\",\"u\")\n",
    "    lista_final=juntar.split()\n",
    "    return lista_final\n",
    "    "
   ]
  },
  {
   "cell_type": "code",
   "execution_count": null,
   "metadata": {},
   "outputs": [],
   "source": [
    "stop=quitar_acentos(stop)"
   ]
  },
  {
   "cell_type": "code",
   "execution_count": null,
   "metadata": {},
   "outputs": [],
   "source": [
    "def texto_a_palabras(texto):\n",
    "    return [palabra for palabra in texto.split() if palabra not in stop]"
   ]
  },
  {
   "cell_type": "code",
   "execution_count": null,
   "metadata": {},
   "outputs": [],
   "source": [
    "df[\"tokens\"]=df[\"tweet\"].apply(texto_a_palabras)"
   ]
  },
  {
   "cell_type": "code",
   "execution_count": null,
   "metadata": {},
   "outputs": [],
   "source": [
    "conteo={}\n",
    "for i in df[\"tokens\"]:\n",
    "    for palabra in i:\n",
    "        if palabra in conteo:\n",
    "            conteo[palabra] += 1\n",
    "        else:\n",
    "            conteo[palabra] = 1"
   ]
  },
  {
   "cell_type": "code",
   "execution_count": null,
   "metadata": {},
   "outputs": [],
   "source": [
    "conteo_palabras=pd.Series(conteo)"
   ]
  },
  {
   "cell_type": "code",
   "execution_count": null,
   "metadata": {},
   "outputs": [],
   "source": [
    "conteo_palabras.sort_values(ascending=False).head(30)"
   ]
  },
  {
   "cell_type": "code",
   "execution_count": null,
   "metadata": {},
   "outputs": [],
   "source": [
    "lista_tokens=[]\n",
    "for i in df[\"tokens\"]:\n",
    "    for palabra in i:\n",
    "        lista_tokens.append(palabra)"
   ]
  },
  {
   "cell_type": "code",
   "execution_count": null,
   "metadata": {},
   "outputs": [],
   "source": [
    "palabras=(\" \").join(lista_tokens)"
   ]
  },
  {
   "cell_type": "code",
   "execution_count": null,
   "metadata": {},
   "outputs": [],
   "source": [
    "wordcloud = WordCloud(height=3000,width=5500,background_color=\"white\",max_words=500).generate(palabras)\n",
    "plt.figure(figsize=(25,15))\n",
    "plt.imshow(wordcloud, interpolation='bilinear')\n",
    "plt.axis(\"off\")\n",
    "plt.show()"
   ]
  },
  {
   "cell_type": "code",
   "execution_count": null,
   "metadata": {},
   "outputs": [],
   "source": [
    "with open(\"positive_words_es.txt\", \"r\", encoding=\"utf-8\") as f:\n",
    "    palabras_positivas = f.read().splitlines()\n",
    "\n",
    "with open(\"negative_words_es.txt\", \"r\", encoding=\"utf-8\") as f:\n",
    "    palabras_negativas = f.read().splitlines()\n",
    "    \n",
    "with open(\"groserías.txt\", \"r\", encoding=\"utf-8\") as f:\n",
    "    groserias = f.read().splitlines() "
   ]
  },
  {
   "cell_type": "code",
   "execution_count": null,
   "metadata": {},
   "outputs": [],
   "source": [
    "palabras_positivas=quitar_acentos(palabras_positivas)\n",
    "palabras_negativas=quitar_acentos(palabras_negativas)"
   ]
  },
  {
   "cell_type": "code",
   "execution_count": null,
   "metadata": {},
   "outputs": [],
   "source": [
    "len(palabras_positivas)"
   ]
  },
  {
   "cell_type": "code",
   "execution_count": null,
   "metadata": {},
   "outputs": [],
   "source": [
    "len(palabras_negativas)"
   ]
  },
  {
   "cell_type": "code",
   "execution_count": null,
   "metadata": {},
   "outputs": [],
   "source": [
    "len(groserias)"
   ]
  },
  {
   "cell_type": "code",
   "execution_count": null,
   "metadata": {},
   "outputs": [],
   "source": [
    "conteo_palabras.count()"
   ]
  },
  {
   "cell_type": "code",
   "execution_count": null,
   "metadata": {},
   "outputs": [],
   "source": [
    "mes_contador=df.groupby([\"mes\",\"dia\"])[\"tweet\"].count()"
   ]
  },
  {
   "cell_type": "code",
   "execution_count": null,
   "metadata": {},
   "outputs": [],
   "source": [
    "mes_contador.mean()"
   ]
  },
  {
   "cell_type": "code",
   "execution_count": null,
   "metadata": {},
   "outputs": [],
   "source": [
    "hora_contador=df.groupby(\"hora\")[\"tweet\"].count()"
   ]
  },
  {
   "cell_type": "code",
   "execution_count": null,
   "metadata": {},
   "outputs": [],
   "source": [
    "figure=plt.figure(figsize=(20,10))\n",
    "ax1= figure.add_subplot(1,2,1)\n",
    "ax2=figure.add_subplot(1,2,2,sharey = ax1)\n",
    "sns.barplot(x=df[\"fecha_str\"].unique(),color=\"#1DA1F2\",y=mes_contador.values,lw=1,edgecolor=\"black\",orient=\"v\",ax=ax1)\n",
    "ax1.tick_params(axis=\"x\", labelsize=20,labelrotation=90)\n",
    "ax1.tick_params(axis=\"y\", labelsize=20)\n",
    "ax1.set_title(\"Tweets por día\",fontsize=25,fontweight=\"bold\",pad=20)\n",
    "ax1.set_xlabel(\"Fecha\",fontsize=20,fontweight=\"bold\",labelpad=20)\n",
    "ax1.set_ylabel(\"Número de tweets\",fontsize=20,fontweight=\"bold\",labelpad=20)\n",
    "sns.barplot(x=hora_contador.index,color=\"#1DA1F2\",y=hora_contador.values,lw=1,edgecolor=\"black\",orient=\"v\",ax=ax2)\n",
    "plt.setp(ax2.get_yticklabels(), visible=False)\n",
    "ax2.tick_params(axis=\"x\", labelsize=20)\n",
    "ax2.tick_params(axis=\"y\", labelsize=20)\n",
    "ax2.set_title(\"Tweets acumulados por hora\",fontsize=25,fontweight=\"bold\",pad=20)\n",
    "ax2.set_xlabel(\"Tiempo del centro, horario de verano (UTC -5)\",fontsize=20,fontweight=\"bold\",labelpad=20)\n",
    "figure.tight_layout()\n",
    "plt.subplots_adjust(wspace = 0.05)\n"
   ]
  },
  {
   "cell_type": "code",
   "execution_count": null,
   "metadata": {},
   "outputs": [],
   "source": [
    "def puntaje(texto):\n",
    "    score=0\n",
    "    for i in texto:\n",
    "        if i in palabras_positivas:\n",
    "            score+=1\n",
    "        elif i in palabras_negativas:\n",
    "            score-=1\n",
    "    return score"
   ]
  },
  {
   "cell_type": "code",
   "execution_count": null,
   "metadata": {},
   "outputs": [],
   "source": [
    "def contador_groserias(texto):\n",
    "    score_groserias=0\n",
    "    for i in texto:\n",
    "        if i in groserias:\n",
    "            score_groserias+=1\n",
    "    return score_groserias"
   ]
  },
  {
   "cell_type": "code",
   "execution_count": null,
   "metadata": {},
   "outputs": [],
   "source": [
    "df[\"puntaje\"]=df[\"tokens\"].apply(puntaje)"
   ]
  },
  {
   "cell_type": "code",
   "execution_count": null,
   "metadata": {},
   "outputs": [],
   "source": [
    "df[\"conteo_groserias\"]=df[\"tokens\"].apply(contador_groserias)"
   ]
  },
  {
   "cell_type": "code",
   "execution_count": null,
   "metadata": {},
   "outputs": [],
   "source": [
    "def multiplicador(punt,gros):\n",
    "    if gros==1:\n",
    "        puntaje=punt*2\n",
    "    elif gros>1:\n",
    "        puntaje=punt*3\n",
    "    else:\n",
    "        puntaje=punt\n",
    "    return puntaje\n",
    "    "
   ]
  },
  {
   "cell_type": "code",
   "execution_count": null,
   "metadata": {},
   "outputs": [],
   "source": [
    "df[\"puntaje_final\"]=df.apply(lambda x: multiplicador(x[\"puntaje\"],x[\"conteo_groserias\"]),axis=1)"
   ]
  },
  {
   "cell_type": "code",
   "execution_count": null,
   "metadata": {},
   "outputs": [],
   "source": [
    "df_puntaje=df[df[\"puntaje_final\"]!=0]"
   ]
  },
  {
   "cell_type": "code",
   "execution_count": null,
   "metadata": {},
   "outputs": [],
   "source": [
    "df_puntaje[\"sentimiento\"]=df[\"puntaje_final\"].apply(lambda x: \"positivo\" if x>0 else \"negativo\")"
   ]
  },
  {
   "cell_type": "code",
   "execution_count": null,
   "metadata": {},
   "outputs": [],
   "source": [
    "df_puntaje[\"sentimiento\"].value_counts()"
   ]
  },
  {
   "cell_type": "code",
   "execution_count": null,
   "metadata": {},
   "outputs": [],
   "source": [
    "df_sent=df_puntaje.groupby([\"mes\",\"dia\",\"sentimiento\"]).count()[\"tweet\"]"
   ]
  },
  {
   "cell_type": "code",
   "execution_count": null,
   "metadata": {},
   "outputs": [],
   "source": [
    "df_sent.xs(\"positivo\",level=2).plot(lw=2,ls=\"--\",color=\"green\",figsize=(20,10),label=\"Positivo\")\n",
    "df_sent.xs(\"negativo\",level=2).plot(lw=2,ls=\"--\",color=\"red\",figsize=(20,10),label=\"Negativo\")\n",
    "plt.xticks(ticks=np.arange(0, df_puntaje[\"fecha_str\"].nunique()),labels=df_puntaje[\"fecha_str\"].unique(),size=20,rotation=90)\n",
    "plt.yticks(np.arange(0, 851 , 50),size=20)\n",
    "plt.title(\"Sentimiento de los tweets\",weight=\"bold\",pad=15,size=22)\n",
    "plt.xlabel(\"Fecha\",weight=\"bold\",labelpad=20,size=18)\n",
    "plt.ylabel(\"Número de tweets\",weight=\"bold\",labelpad=20,size=18)\n",
    "plt.legend(loc='center left', bbox_to_anchor=(1, 0.5),fontsize=\"x-large\")\n",
    "plt.tight_layout()"
   ]
  },
  {
   "cell_type": "code",
   "execution_count": null,
   "metadata": {},
   "outputs": [],
   "source": [
    "df_suma=df_puntaje.groupby([\"mes\",\"dia\"])[\"puntaje\"].sum()"
   ]
  },
  {
   "cell_type": "code",
   "execution_count": null,
   "metadata": {},
   "outputs": [],
   "source": [
    "def indice(x):\n",
    "    if x>0:\n",
    "        valor=x/df_suma.max()\n",
    "    if x<0:\n",
    "        valor=-(x/df_suma.min())\n",
    "    return valor"
   ]
  },
  {
   "cell_type": "code",
   "execution_count": null,
   "metadata": {},
   "outputs": [],
   "source": [
    "df_indice=df_suma.apply(indice)"
   ]
  },
  {
   "cell_type": "code",
   "execution_count": null,
   "metadata": {},
   "outputs": [],
   "source": [
    "df_indice.plot(lw=2,ls=\"--\",color=\"red\",figsize=(20,10))\n",
    "plt.xticks(ticks=np.arange(0, df_puntaje[\"fecha_str\"].nunique()),labels=df_puntaje[\"fecha_str\"].unique(),size=15,rotation=90)\n",
    "plt.title(\"Sentimiento general diario de los tweets\",weight=\"bold\",pad=15,size=22)\n",
    "plt.xlabel(\"Fecha\",weight=\"bold\",labelpad=20,size=18)\n",
    "plt.yticks(size=15)\n",
    "plt.ylabel(\"Índice\",weight=\"bold\",labelpad=20,size=18)"
   ]
  }
 ],
 "metadata": {
  "kernelspec": {
   "display_name": "Python 3.8.3 32-bit",
   "language": "python",
   "name": "python38332bit2517dbf4389f4116850c86a593e23435"
  },
  "language_info": {
   "codemirror_mode": {
    "name": "ipython",
    "version": 3
   },
   "file_extension": ".py",
   "mimetype": "text/x-python",
   "name": "python",
   "nbconvert_exporter": "python",
   "pygments_lexer": "ipython3",
   "version": "3.8.3"
  }
 },
 "nbformat": 4,
 "nbformat_minor": 4
}
