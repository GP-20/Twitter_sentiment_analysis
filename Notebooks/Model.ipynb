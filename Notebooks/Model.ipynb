{
 "cells": [
  {
   "cell_type": "code",
   "execution_count": null,
   "metadata": {},
   "outputs": [],
   "source": [
    "import pandas as pd\n",
    "import numpy as np"
   ]
  },
  {
   "cell_type": "code",
   "execution_count": null,
   "metadata": {},
   "outputs": [],
   "source": [
    "df1=pd.read_pickle(\"tw_pos.pkl\")\n",
    "df2=pd.read_pickle(\"tw_pos_score1.pkl\")\n",
    "df_pos=pd.concat([df1,df2],axis=0).reset_index(drop=True)"
   ]
  },
  {
   "cell_type": "code",
   "execution_count": null,
   "metadata": {},
   "outputs": [],
   "source": [
    "df3=pd.read_pickle(\"tw_neg.pkl\")\n",
    "df4=pd.read_pickle(\"tw_neg_score1.pkl\")\n",
    "df_neg=pd.concat([df3,df4],axis=0).reset_index(drop=True)"
   ]
  },
  {
   "cell_type": "code",
   "execution_count": null,
   "metadata": {
    "scrolled": false
   },
   "outputs": [],
   "source": [
    "df_pos.to_csv(\"pos.csv\",index=False)\n",
    "df_neg.to_csv(\"neg.csv\",index=False)"
   ]
  },
  {
   "cell_type": "code",
   "execution_count": null,
   "metadata": {},
   "outputs": [],
   "source": [
    "df5=pd.read_csv(\"pos.csv\")\n",
    "df6=pd.read_csv(\"neg.csv\")\n",
    "df_final=pd.concat([df5,df6],axis=0)"
   ]
  },
  {
   "cell_type": "code",
   "execution_count": null,
   "metadata": {},
   "outputs": [],
   "source": [
    "df_final[\"label\"].value_counts()"
   ]
  },
  {
   "cell_type": "code",
   "execution_count": null,
   "metadata": {},
   "outputs": [],
   "source": [
    "def quitar_acentos(texto):\n",
    "    juntar=(\" \").join(texto)\n",
    "    juntar=juntar.replace(\"á\",\"a\")\n",
    "    juntar=juntar.replace(\"é\",\"e\")\n",
    "    juntar=juntar.replace(\"í\",\"i\")\n",
    "    juntar=juntar.replace(\"ó\",\"o\")\n",
    "    juntar=juntar.replace(\"ú\",\"u\")\n",
    "    lista_final=juntar.split()\n",
    "    return lista_final"
   ]
  },
  {
   "cell_type": "code",
   "execution_count": null,
   "metadata": {},
   "outputs": [],
   "source": [
    "from nltk.corpus import stopwords\n",
    "stop=stopwords.words('spanish')"
   ]
  },
  {
   "cell_type": "code",
   "execution_count": null,
   "metadata": {},
   "outputs": [],
   "source": [
    "stop=quitar_acentos(stop)"
   ]
  },
  {
   "cell_type": "code",
   "execution_count": null,
   "metadata": {},
   "outputs": [],
   "source": [
    "from sklearn.model_selection import train_test_split\n",
    "\n",
    "tw_train, tw_test, label_train, label_test = train_test_split(df_final[\"tweet\"], df_final['label'],\n",
    "                                                              test_size=0.30,random_state=2020)"
   ]
  },
  {
   "cell_type": "code",
   "execution_count": null,
   "metadata": {},
   "outputs": [],
   "source": [
    "from sklearn.feature_extraction.text import CountVectorizer\n",
    "from sklearn.feature_extraction.text import TfidfTransformer\n",
    "from sklearn.naive_bayes import MultinomialNB\n",
    "from sklearn.pipeline import Pipeline"
   ]
  },
  {
   "cell_type": "code",
   "execution_count": null,
   "metadata": {},
   "outputs": [],
   "source": [
    "pipeline = Pipeline([\n",
    "    ('bow', CountVectorizer(stop_words=stop)), \n",
    "    ('classifier', MultinomialNB()),  \n",
    "])"
   ]
  },
  {
   "cell_type": "code",
   "execution_count": null,
   "metadata": {},
   "outputs": [],
   "source": [
    "pipeline.fit(tw_train,label_train)"
   ]
  },
  {
   "cell_type": "code",
   "execution_count": null,
   "metadata": {},
   "outputs": [],
   "source": [
    "predictions = pipeline.predict(tw_test)"
   ]
  },
  {
   "cell_type": "code",
   "execution_count": null,
   "metadata": {},
   "outputs": [],
   "source": [
    "from sklearn.metrics import confusion_matrix,classification_report"
   ]
  },
  {
   "cell_type": "code",
   "execution_count": null,
   "metadata": {},
   "outputs": [],
   "source": [
    "print(confusion_matrix(label_test,predictions))\n",
    "print('\\n')\n",
    "print(classification_report(label_test,predictions))"
   ]
  },
  {
   "cell_type": "code",
   "execution_count": null,
   "metadata": {},
   "outputs": [],
   "source": [
    "df=pd.read_pickle(\"final_df.pkl\").reset_index(drop=True)"
   ]
  },
  {
   "cell_type": "code",
   "execution_count": null,
   "metadata": {},
   "outputs": [],
   "source": [
    "predictions_final=pipeline.predict(df[\"tweet\"])"
   ]
  },
  {
   "cell_type": "code",
   "execution_count": null,
   "metadata": {},
   "outputs": [],
   "source": [
    "df[\"label\"]=predictions_final"
   ]
  },
  {
   "cell_type": "code",
   "execution_count": null,
   "metadata": {},
   "outputs": [],
   "source": [
    "df[\"label\"].value_counts()"
   ]
  },
  {
   "cell_type": "code",
   "execution_count": null,
   "metadata": {},
   "outputs": [],
   "source": [
    "df[df[\"label\"]==\"positivo\"].sample(5)"
   ]
  },
  {
   "cell_type": "code",
   "execution_count": null,
   "metadata": {},
   "outputs": [],
   "source": [
    "df[df[\"label\"]==\"negativo\"].sample(5)"
   ]
  },
  {
   "cell_type": "code",
   "execution_count": null,
   "metadata": {},
   "outputs": [],
   "source": [
    "df_sent=df.groupby([\"mes\",\"dia\",\"label\"]).count()[\"tweet\"]"
   ]
  },
  {
   "cell_type": "code",
   "execution_count": null,
   "metadata": {},
   "outputs": [],
   "source": [
    "import seaborn as sns\n",
    "import matplotlib.pyplot as plt\n",
    "sns.set(style=\"whitegrid\",\n",
    "        rc={\n",
    "            \"text.color\": \"black\",\n",
    "            \"axes.labelcolor\": \"black\",\n",
    "            \"axes.edgecolor\": \"black\",\n",
    "            \"xtick.color\": \"black\",\n",
    "            \"ytick.color\": \"black\",\n",
    "            \"axes.facecolor\": \"#FFFFFF\",\n",
    "            \"figure.facecolor\": \"#F5F8FA\"}\n",
    "        )"
   ]
  },
  {
   "cell_type": "code",
   "execution_count": null,
   "metadata": {},
   "outputs": [],
   "source": [
    "df_sent.xs(\"positivo\",level=2).plot(lw=2,ls=\"--\",color=\"green\",figsize=(20,10),label=\"Positivo\")\n",
    "df_sent.xs(\"negativo\",level=2).plot(lw=2,ls=\"--\",color=\"red\",figsize=(20,10),label=\"Negativo\")\n",
    "plt.xticks(ticks=np.arange(0, df[\"fecha_str\"].nunique()),labels=df[\"fecha_str\"].unique(),size=20,rotation=90)\n",
    "plt.yticks(np.arange(0, 1901 , 100),size=20)\n",
    "plt.title(\"Sentimiento de los tweets\",weight=\"bold\",pad=15,size=22)\n",
    "plt.xlabel(\"Fecha\",weight=\"bold\",labelpad=20,size=18)\n",
    "plt.ylabel(\"Número de tweets\",weight=\"bold\",labelpad=20,size=18)\n",
    "plt.legend(loc='center left', bbox_to_anchor=(1, 0.5),fontsize=\"x-large\")\n",
    "plt.tight_layout()"
   ]
  }
 ],
 "metadata": {
  "kernelspec": {
   "display_name": "Python 3.8.3 32-bit",
   "language": "python",
   "name": "python38332bit2517dbf4389f4116850c86a593e23435"
  },
  "language_info": {
   "codemirror_mode": {
    "name": "ipython",
    "version": 3
   },
   "file_extension": ".py",
   "mimetype": "text/x-python",
   "name": "python",
   "nbconvert_exporter": "python",
   "pygments_lexer": "ipython3",
   "version": "3.8.3"
  }
 },
 "nbformat": 4,
 "nbformat_minor": 4
}
