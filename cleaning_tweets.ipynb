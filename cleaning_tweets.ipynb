{
 "cells": [
  {
   "cell_type": "code",
   "execution_count": 1,
   "metadata": {},
   "outputs": [],
   "source": [
    "import pandas as pd\n",
    "import re"
   ]
  },
  {
   "cell_type": "code",
   "execution_count": 2,
   "metadata": {},
   "outputs": [],
   "source": [
    "df1=pd.read_csv(r\"Tweets\\tweets_14-08_to_23-08.csv\", parse_dates=[\"fecha\"])\n",
    "df2=pd.read_csv(r\"Tweets\\tweets_21-08_to_30-08.csv\", parse_dates=[\"fecha\"])\n",
    "df3=pd.read_csv(r\"Tweets\\tweets_28-08_to_05-09.csv\", parse_dates=[\"fecha\"])\n",
    "df4=pd.read_csv(r\"Tweets\\tweets_04-09_to_13-09.csv\", parse_dates=[\"fecha\"])"
   ]
  },
  {
   "cell_type": "code",
   "execution_count": 3,
   "metadata": {},
   "outputs": [],
   "source": [
    "df=pd.concat([df1,df2,df3,df4],axis=0)"
   ]
  },
  {
   "cell_type": "code",
   "execution_count": 4,
   "metadata": {},
   "outputs": [],
   "source": [
    "df=df.drop_duplicates(\"ID\").reset_index(drop=True)"
   ]
  },
  {
   "cell_type": "code",
   "execution_count": 5,
   "metadata": {},
   "outputs": [
    {
     "name": "stdout",
     "output_type": "stream",
     "text": [
      "<class 'pandas.core.frame.DataFrame'>\n",
      "RangeIndex: 34559 entries, 0 to 34558\n",
      "Data columns (total 5 columns):\n",
      " #   Column       Non-Null Count  Dtype         \n",
      "---  ------       --------------  -----         \n",
      " 0   ID           34559 non-null  int64         \n",
      " 1   tweet        34559 non-null  object        \n",
      " 2   fecha        34559 non-null  datetime64[ns]\n",
      " 3   usuario      34559 non-null  object        \n",
      " 4   dispositivo  34557 non-null  object        \n",
      "dtypes: datetime64[ns](1), int64(1), object(3)\n",
      "memory usage: 945.0+ KB\n"
     ]
    }
   ],
   "source": [
    "df.info()"
   ]
  },
  {
   "cell_type": "markdown",
   "metadata": {},
   "source": [
    "##### Cambiar el formato de la fecha y convertir el tiempo de UTC a la zona horaria del centro (UTC -5) y crear columnas para mes, día y hora"
   ]
  },
  {
   "cell_type": "code",
   "execution_count": 6,
   "metadata": {},
   "outputs": [],
   "source": [
    "df[\"fecha\"]=df[\"fecha\"].dt.tz_localize('utc').dt.tz_convert('US/Central')\n",
    "df[\"fecha_str\"]=df[\"fecha\"].apply(lambda x: x.strftime(\"%d-%m\"))\n",
    "df[\"mes\"]=df[\"fecha\"].apply(lambda x: x.month)\n",
    "df[\"dia\"]=df[\"fecha\"].apply(lambda x: x.day)\n",
    "df[\"hora\"]=df[\"fecha\"].apply(lambda x: x.hour)"
   ]
  },
  {
   "cell_type": "markdown",
   "metadata": {},
   "source": [
    "##### Eliminar los hashtags y crear una columna con ellos"
   ]
  },
  {
   "cell_type": "code",
   "execution_count": 7,
   "metadata": {},
   "outputs": [],
   "source": [
    "hashtags=re.compile(r\"#[\\w]+\")\n",
    "df[\"hashtags\"]=df[\"tweet\"].apply(lambda x: hashtags.findall(x))\n",
    "df[\"tweet\"]=df[\"tweet\"].apply(lambda x: hashtags.sub(\"\",x))"
   ]
  },
  {
   "cell_type": "markdown",
   "metadata": {},
   "source": [
    "##### Eliminar los user tags y crear una columna con ellos"
   ]
  },
  {
   "cell_type": "code",
   "execution_count": 8,
   "metadata": {},
   "outputs": [],
   "source": [
    "users=re.compile(r\"@[\\w]+\")\n",
    "df[\"users\"]=df[\"tweet\"].apply(lambda x: users.findall(x))\n",
    "df[\"tweet\"]=df[\"tweet\"].apply(lambda x: users.sub(\"\",x))"
   ]
  },
  {
   "cell_type": "markdown",
   "metadata": {},
   "source": [
    "##### Eliminar los links "
   ]
  },
  {
   "cell_type": "code",
   "execution_count": 9,
   "metadata": {},
   "outputs": [],
   "source": [
    "links=re.compile(r\"(http|https|ftp)://[a-zA-Z0-9\\./]+\")\n",
    "df[\"tweet\"]=df[\"tweet\"].apply(lambda x: links.sub(\"\",x))"
   ]
  },
  {
   "cell_type": "markdown",
   "metadata": {},
   "source": [
    "##### Convertir el texto en minúsculas, eliminar los acentos y separadores en formato unicode "
   ]
  },
  {
   "cell_type": "code",
   "execution_count": 10,
   "metadata": {},
   "outputs": [],
   "source": [
    "df[\"tweet\"]=df[\"tweet\"].apply(lambda x: x.lower())\n",
    "df[\"tweet\"]=df[\"tweet\"].apply(lambda x: x.replace(\"á\",\"a\"))\n",
    "df[\"tweet\"]=df[\"tweet\"].apply(lambda x: x.replace(\"é\",\"e\"))\n",
    "df[\"tweet\"]=df[\"tweet\"].apply(lambda x: x.replace(\"í\",\"i\"))\n",
    "df[\"tweet\"]=df[\"tweet\"].apply(lambda x: x.replace(\"ó\",\"o\"))\n",
    "df[\"tweet\"]=df[\"tweet\"].apply(lambda x: x.replace(\"ú\",\"u\"))\n",
    "df[\"tweet\"]=df[\"tweet\"].apply(lambda x: x.replace(u'\\xa0', u''))\n",
    "df[\"tweet\"]=df[\"tweet\"].apply(lambda x: x.replace(u'\\u200d', u''))"
   ]
  },
  {
   "cell_type": "markdown",
   "metadata": {},
   "source": [
    "##### Eliminar cualquier dígito"
   ]
  },
  {
   "cell_type": "code",
   "execution_count": 11,
   "metadata": {},
   "outputs": [],
   "source": [
    "digits=re.compile(r\"\\d\")\n",
    "df[\"tweet\"]=df[\"tweet\"].apply(lambda x: digits.sub(\"\",x))"
   ]
  },
  {
   "cell_type": "markdown",
   "metadata": {},
   "source": [
    "##### Eliminar signos de puntuación"
   ]
  },
  {
   "cell_type": "code",
   "execution_count": 12,
   "metadata": {},
   "outputs": [],
   "source": [
    "signos=re.compile(r'[!‼¡ª¿→↘↪…—\"“”°‘’\\$%&\\'()*+,\\-.\\/:;=#@?\\[\\\\\\]^_`{|}~]+')\n",
    "df[\"tweet\"]=df[\"tweet\"].apply(lambda x: signos.sub(\" \",x))"
   ]
  },
  {
   "cell_type": "markdown",
   "metadata": {},
   "source": [
    "##### Eliminar emojis"
   ]
  },
  {
   "cell_type": "code",
   "execution_count": 13,
   "metadata": {},
   "outputs": [],
   "source": [
    "emojis= re.compile(\"[\"\n",
    "                   u\"\\U0001F600-\\U0001F9F9\"  # emoticons\n",
    "                   u\"\\U0001F300-\\U0001F5FF\"  # symbols & pictographs\n",
    "                   u\"\\U0001F680-\\U0001F6FF\"  # transport & map symbols\n",
    "                   u\"\\U0001F1E0-\\U0001F1FF\"  # flags (iOS)\n",
    "                   u\"\\U00002702-\\U000027B0\"\n",
    "                   u\"\\U000024C2-\\U0001F251\"\n",
    "                   u\"\\U000020E3-\\U000029E9\"\n",
    "                   \"]+\", flags=re.UNICODE)\n",
    "df[\"tweet\"]=df[\"tweet\"].apply(lambda x: emojis.sub(\" \",x))"
   ]
  },
  {
   "cell_type": "markdown",
   "metadata": {},
   "source": [
    "##### Eliminar risas"
   ]
  },
  {
   "cell_type": "code",
   "execution_count": 14,
   "metadata": {},
   "outputs": [],
   "source": [
    "risa=re.compile(r'[jhea]{4,}')\n",
    "df[\"tweet\"]=df[\"tweet\"].apply(lambda x: risa.sub(\" \",x))"
   ]
  },
  {
   "cell_type": "markdown",
   "metadata": {},
   "source": [
    "##### Eliminar letras repetidas, permitiendo que se repita la \"E\" la \"L\"  la \"R\" y la \"C\""
   ]
  },
  {
   "cell_type": "code",
   "execution_count": 15,
   "metadata": {},
   "outputs": [],
   "source": [
    "def rep(text):\n",
    "    grp = text.group(0)\n",
    "    if len(grp) > 1:\n",
    "        return grp[0:1]\n",
    "def cambio_letras(rep,texto):\n",
    "    conver = re.sub(r\"[r]{2,}\", \"rr\", texto)\n",
    "    conver = re.sub(r\"[e]{2,}\", \"ee\", conver)\n",
    "    conver = re.sub(r\"[l]{2,}\", \"ll\", conver)\n",
    "    conver = re.sub(r\"[c]{2,}\", \"cc\", conver)\n",
    "    conver = re.sub(r'([^lerc])\\1{1,}', rep, conver) \n",
    "    return conver\n",
    "\n",
    "df[\"tweet\"]=df[\"tweet\"].apply(lambda x : cambio_letras(rep,x))"
   ]
  },
  {
   "cell_type": "markdown",
   "metadata": {},
   "source": [
    "##### Eliminar espacios y sustituirlos por espacios sencillos"
   ]
  },
  {
   "cell_type": "code",
   "execution_count": 16,
   "metadata": {},
   "outputs": [],
   "source": [
    "espacio=re.compile(r\"[\\s]+\")\n",
    "df[\"tweet\"]=df[\"tweet\"].apply(lambda x: espacio.sub(\" \",x))"
   ]
  },
  {
   "cell_type": "markdown",
   "metadata": {},
   "source": [
    "##### Sustituir algunas letras por su equivalente"
   ]
  },
  {
   "cell_type": "code",
   "execution_count": 17,
   "metadata": {},
   "outputs": [],
   "source": [
    "x_re=re.compile(r\"\\s[x]\\s\")\n",
    "df[\"tweet\"]=df[\"tweet\"].apply(lambda x: x_re.sub(\" por \",x))\n",
    "q_re=re.compile(r\"\\s[q]\\s\")\n",
    "df[\"tweet\"]=df[\"tweet\"].apply(lambda x: q_re.sub(\" que \",x))\n",
    "d_re=re.compile(r\"\\s[d]\\s\")\n",
    "df[\"tweet\"]=df[\"tweet\"].apply(lambda x: d_re.sub(\" de \",x))\n",
    "k_re=re.compile(r\"\\s[k]\\s\")\n",
    "df[\"tweet\"]=df[\"tweet\"].apply(lambda x: k_re.sub(\" que \",x))\n",
    "ke_re=re.compile(r\"\\s[k][e]\\s\")\n",
    "df[\"tweet\"]=df[\"tweet\"].apply(lambda x: ke_re.sub(\" que \",x))"
   ]
  },
  {
   "cell_type": "markdown",
   "metadata": {},
   "source": [
    "##### Eliminar espacios al inicio y al final del texto"
   ]
  },
  {
   "cell_type": "code",
   "execution_count": 18,
   "metadata": {},
   "outputs": [],
   "source": [
    "df[\"tweet\"]=df[\"tweet\"].apply(lambda x: x.strip())"
   ]
  },
  {
   "cell_type": "markdown",
   "metadata": {},
   "source": [
    "##### Ordenar por fecha, de más antiguo a más reciente"
   ]
  },
  {
   "cell_type": "code",
   "execution_count": 21,
   "metadata": {},
   "outputs": [],
   "source": [
    "df=df.sort_values([\"fecha\"])"
   ]
  },
  {
   "cell_type": "markdown",
   "metadata": {},
   "source": [
    "##### Guardar una versión pickle del dataframe final"
   ]
  },
  {
   "cell_type": "code",
   "execution_count": 31,
   "metadata": {},
   "outputs": [],
   "source": [
    "df.to_pickle(\"final_df.pkl\")"
   ]
  }
 ],
 "metadata": {
  "kernelspec": {
   "display_name": "Python 3.8.3 32-bit",
   "language": "python",
   "name": "python38332bit2517dbf4389f4116850c86a593e23435"
  },
  "language_info": {
   "codemirror_mode": {
    "name": "ipython",
    "version": 3
   },
   "file_extension": ".py",
   "mimetype": "text/x-python",
   "name": "python",
   "nbconvert_exporter": "python",
   "pygments_lexer": "ipython3",
   "version": "3.8.3"
  }
 },
 "nbformat": 4,
 "nbformat_minor": 4
}
